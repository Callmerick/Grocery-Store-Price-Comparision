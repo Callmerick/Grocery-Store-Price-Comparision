{
 "cells": [
  {
   "cell_type": "code",
   "execution_count": 1,
   "metadata": {},
   "outputs": [
    {
     "name": "stdout",
     "output_type": "stream",
     "text": [
      "Requirement already satisfied: webdriver-manager in /Users/ricardolu/opt/anaconda3/lib/python3.7/site-packages (3.2.2)\n",
      "Requirement already satisfied: requests in /Users/ricardolu/opt/anaconda3/lib/python3.7/site-packages (from webdriver-manager) (2.22.0)\n",
      "Requirement already satisfied: crayons in /Users/ricardolu/opt/anaconda3/lib/python3.7/site-packages (from webdriver-manager) (0.4.0)\n",
      "Requirement already satisfied: configparser in /Users/ricardolu/opt/anaconda3/lib/python3.7/site-packages (from webdriver-manager) (5.0.1)\n",
      "Requirement already satisfied: urllib3!=1.25.0,!=1.25.1,<1.26,>=1.21.1 in /Users/ricardolu/opt/anaconda3/lib/python3.7/site-packages (from requests->webdriver-manager) (1.25.8)\n",
      "Requirement already satisfied: idna<2.9,>=2.5 in /Users/ricardolu/opt/anaconda3/lib/python3.7/site-packages (from requests->webdriver-manager) (2.8)\n",
      "Requirement already satisfied: chardet<3.1.0,>=3.0.2 in /Users/ricardolu/opt/anaconda3/lib/python3.7/site-packages (from requests->webdriver-manager) (3.0.4)\n",
      "Requirement already satisfied: certifi>=2017.4.17 in /Users/ricardolu/opt/anaconda3/lib/python3.7/site-packages (from requests->webdriver-manager) (2019.11.28)\n",
      "Requirement already satisfied: colorama in /Users/ricardolu/opt/anaconda3/lib/python3.7/site-packages (from crayons->webdriver-manager) (0.4.3)\n"
     ]
    }
   ],
   "source": [
    "!pip install webdriver-manager"
   ]
  },
  {
   "cell_type": "code",
   "execution_count": 2,
   "metadata": {
    "ExecuteTime": {
     "end_time": "2020-10-04T20:36:28.014775Z",
     "start_time": "2020-10-04T20:36:24.618153Z"
    }
   },
   "outputs": [],
   "source": [
    "from selenium import webdriver\n",
    "import datetime\n",
    "import time\n",
    "from bs4 import BeautifulSoup\n",
    "import urllib.request\n",
    "import pandas as pd\n",
    "import numpy as np\n",
    "from webdriver_manager.chrome import ChromeDriverManager"
   ]
  },
  {
   "cell_type": "code",
   "execution_count": 3,
   "metadata": {
    "ExecuteTime": {
     "end_time": "2020-10-04T20:36:28.014775Z",
     "start_time": "2020-10-04T20:36:24.618153Z"
    }
   },
   "outputs": [
    {
     "name": "stderr",
     "output_type": "stream",
     "text": [
      "[WDM] - Current google-chrome version is 87.0.4280\n",
      "[WDM] - Get LATEST driver version for 87.0.4280\n",
      "[WDM] - Get LATEST driver version for 87.0.4280\n",
      "[WDM] - Trying to download new driver from http://chromedriver.storage.googleapis.com/87.0.4280.88/chromedriver_mac64.zip\n"
     ]
    },
    {
     "name": "stdout",
     "output_type": "stream",
     "text": [
      " \n"
     ]
    },
    {
     "name": "stderr",
     "output_type": "stream",
     "text": [
      "[WDM] - Driver has been saved in cache [/Users/ricardolu/.wdm/drivers/chromedriver/mac64/87.0.4280.88]\n"
     ]
    }
   ],
   "source": [
    "#Open a new web browser.\n",
    "driver = webdriver.Chrome(ChromeDriverManager().install())"
   ]
  },
  {
   "cell_type": "code",
   "execution_count": 4,
   "metadata": {
    "ExecuteTime": {
     "end_time": "2020-10-04T20:36:28.014775Z",
     "start_time": "2020-10-04T20:36:24.618153Z"
    },
    "scrolled": true
   },
   "outputs": [],
   "source": [
    "#Open the web page that we want open and log in.\n",
    "driver.get('https://products.wholefoodsmarket.com/search?sort=relevance&store=10408&category=dairy-eggs')\n",
    "time.sleep(5)"
   ]
  },
  {
   "cell_type": "code",
   "execution_count": 5,
   "metadata": {},
   "outputs": [],
   "source": [
    "#scroll down the page to the bottom\n",
    "SCROLL_PAUSE_TIME = 0.5\n",
    "\n",
    "# Get scroll height\n",
    "last_height = driver.execute_script(\"return document.body.scrollHeight\")\n",
    "\n",
    "while True:\n",
    "    # Scroll down to bottom\n",
    "    driver.execute_script(\"window.scrollTo(0, document.body.scrollHeight);\")\n",
    "\n",
    "    # Wait to load page\n",
    "    time.sleep(SCROLL_PAUSE_TIME)\n",
    "\n",
    "    # Calculate new scroll height and compare with last scroll height\n",
    "    new_height = driver.execute_script(\"return document.body.scrollHeight\")\n",
    "    if new_height == last_height:\n",
    "        break\n",
    "    last_height = new_height"
   ]
  },
  {
   "cell_type": "code",
   "execution_count": 6,
   "metadata": {
    "ExecuteTime": {
     "end_time": "2020-10-04T20:36:28.014775Z",
     "start_time": "2020-10-04T20:36:24.618153Z"
    }
   },
   "outputs": [],
   "source": [
    "#Grab the webpage as a BeautifulSoup object\n",
    "soup = BeautifulSoup(driver.page_source,'html.parser')"
   ]
  },
  {
   "cell_type": "code",
   "execution_count": 7,
   "metadata": {
    "ExecuteTime": {
     "end_time": "2020-10-04T20:36:28.014775Z",
     "start_time": "2020-10-04T20:36:24.618153Z"
    },
    "scrolled": true
   },
   "outputs": [],
   "source": [
    "#Obtain Product Names and append to blank list\n",
    "clean_product_names = []\n",
    "product_name = []\n",
    "product_names = soup.find_all('div',class_='ProductCard-Name--1o2Gg')\n",
    "\n",
    "for i in range(len(product_names)):\n",
    "    each_name = product_names[i].text.strip()\n",
    "    product_name.append(each_name)\n",
    "    clean_product_names.append(each_name.split(\",\")[0])"
   ]
  },
  {
   "cell_type": "code",
   "execution_count": 8,
   "metadata": {},
   "outputs": [],
   "source": [
    "#Obtain Product Prices and append to blank list (this will accidentally disguise sales prices as regular prices)\n",
    "clean_prices = []\n",
    "prices = soup.find_all('div',class_='Row__15gM6 ProductCard-PriceRow--g7T92')\n",
    "\n",
    "for i in range(len(prices)):\n",
    "    each_price = prices[i].text.strip().split(\"$\")\n",
    "    if each_price[0] == '':\n",
    "        each_price = each_price[1]\n",
    "    else:\n",
    "        each_price = each_price[0]\n",
    "    clean_prices.append(each_price)"
   ]
  },
  {
   "cell_type": "code",
   "execution_count": 9,
   "metadata": {},
   "outputs": [],
   "source": [
    "# clean_starting_prices = dirty_prices - clean_prices\n",
    "dirty_prices = []\n",
    "for i in range(len(prices)):\n",
    "    dirty_prices.append(prices[i].text.strip())\n",
    "    \n",
    "# to obtain the starting price if it has a sale\n",
    "clean_starting_prices = []\n",
    "\n",
    "for i in range(len(dirty_prices)):\n",
    "    clean_starting_price = dirty_prices[i].replace(clean_prices[i],'')\n",
    "    clean_starting_prices.append(clean_starting_price[1:])"
   ]
  },
  {
   "cell_type": "code",
   "execution_count": 10,
   "metadata": {},
   "outputs": [],
   "source": [
    "#Obtain product quantities and append to blank list\n",
    "clean_quantities = []\n",
    "for i in range(len(clean_prices)):\n",
    "    if '/lb' in str(clean_prices[i]) or '1 lb' in str(product_name[i]):\n",
    "        clean_quantities.append('1 LB')\n",
    "    elif '1 each' in str(product_name[i]):\n",
    "        clean_quantities.append('1 EA')\n",
    "    elif \",\" in str(product_name[i]):\n",
    "        if len(product_name[i].split(\",\")[1]) < 10:\n",
    "            clean_quantities.append(product_name[i].split(\",\")[1])\n",
    "        else:\n",
    "            clean_quantities.append(None)\n",
    "#    elif 'lb' or 'oz' in str(product_name[i]):\n",
    "#        clean_quantities.append(product_name[i])\n",
    "    else:\n",
    "        clean_quantities.append(None)"
   ]
  },
  {
   "cell_type": "code",
   "execution_count": 11,
   "metadata": {},
   "outputs": [],
   "source": [
    "# data cleaning: remove $, /lb and convert cents to dollars\n",
    "def clean_price(prices):\n",
    "    clean_price = []\n",
    "    for price in prices:\n",
    "        price = str(price)\n",
    "        if price == '':\n",
    "            clean_price.append(price)\n",
    "        else:\n",
    "            price = price.replace('$','')\n",
    "            price = price.replace('/lb','')\n",
    "            if '¢' in price:\n",
    "                price = price.replace('¢','')\n",
    "                price = float(price)/100\n",
    "            clean_price.append(float(price))\n",
    "    return clean_price\n",
    "    \n",
    "clean_prices = clean_price(clean_prices)\n",
    "clean_starting_prices = clean_price(clean_starting_prices)"
   ]
  },
  {
   "cell_type": "code",
   "execution_count": 12,
   "metadata": {},
   "outputs": [],
   "source": [
    "#Obtain whether or not there was a sale and append to blank list\n",
    "clean_sale_yes_or_no = []\n",
    "big_HTML_container_1 = soup.find_all('div',class_='ProductCard-Root--3g5WI')\n",
    "\n",
    "# Looking for string \"On Sale\"\n",
    "for i in range(len(big_HTML_container_1)):\n",
    "    if 'On Sale' in str(big_HTML_container_1[i]):\n",
    "        clean_sale_yes_or_no.append('Sale')\n",
    "    else:\n",
    "        clean_sale_yes_or_no.append('')"
   ]
  },
  {
   "cell_type": "code",
   "execution_count": 13,
   "metadata": {},
   "outputs": [],
   "source": [
    "#make a product classification column\n",
    "product_type = []\n",
    "product = \"Dairy\"\n",
    "for i in range(len(clean_product_names)):\n",
    "    product_type.append(product)"
   ]
  },
  {
   "cell_type": "code",
   "execution_count": 14,
   "metadata": {},
   "outputs": [],
   "source": [
    "#make a column to generate the date the data was pulled\n",
    "dates = []\n",
    "todays_date = datetime.date.today()\n",
    "for i in range(len(clean_product_names)):\n",
    "    dates.append(todays_date)"
   ]
  },
  {
   "cell_type": "code",
   "execution_count": 15,
   "metadata": {},
   "outputs": [],
   "source": [
    "#make a column to generate the store name where the data is from\n",
    "store = []\n",
    "for i in range(len(clean_product_names)):\n",
    "    store.append('Whole Foods')\n",
    "    "
   ]
  },
  {
   "cell_type": "code",
   "execution_count": 16,
   "metadata": {},
   "outputs": [],
   "source": [
    "#Create and outsheet dataframe\n",
    "Whole_Foods_Dairy_Data = {'Date': dates,'Store':store,'Product Type':product_type, 'Product Name': clean_product_names,'Price':clean_prices,'Quantity Sold In':clean_quantities,'Sale on This Product?':clean_sale_yes_or_no,'If Sale, Original Price':clean_starting_prices}\n",
    "Whole_Foods_Dairy_Dataframe = pd.DataFrame(data=Whole_Foods_Dairy_Data)\n",
    "\n",
    "\n",
    "Whole_Foods_Dairy_Dataframe.to_csv ('Whole Foods '+product+' '+str(todays_date)+'.csv', index = False, header=True)"
   ]
  },
  {
   "cell_type": "code",
   "execution_count": 17,
   "metadata": {},
   "outputs": [],
   "source": [
    "#Close the webpage\n",
    "driver.close()"
   ]
  },
  {
   "cell_type": "markdown",
   "metadata": {},
   "source": [
    "**More Resources**\n",
    "\n",
    "Selenium with Python: https://selenium-python.readthedocs.io/\n",
    "\n",
    "Selenium Python tutorial: https://www.geeksforgeeks.org/selenium-python-tutorial/"
   ]
  }
 ],
 "metadata": {
  "kernelspec": {
   "display_name": "Python 3",
   "language": "python",
   "name": "python3"
  },
  "language_info": {
   "codemirror_mode": {
    "name": "ipython",
    "version": 3
   },
   "file_extension": ".py",
   "mimetype": "text/x-python",
   "name": "python",
   "nbconvert_exporter": "python",
   "pygments_lexer": "ipython3",
   "version": "3.7.6"
  },
  "toc": {
   "base_numbering": 1,
   "nav_menu": {},
   "number_sections": true,
   "sideBar": true,
   "skip_h1_title": false,
   "title_cell": "Table of Contents",
   "title_sidebar": "Contents",
   "toc_cell": false,
   "toc_position": {},
   "toc_section_display": true,
   "toc_window_display": false
  }
 },
 "nbformat": 4,
 "nbformat_minor": 2
}

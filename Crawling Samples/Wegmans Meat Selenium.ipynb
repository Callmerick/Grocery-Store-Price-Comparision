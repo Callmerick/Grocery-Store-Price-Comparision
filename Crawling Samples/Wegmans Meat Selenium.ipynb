{
 "cells": [
  {
   "cell_type": "code",
   "execution_count": 28,
   "metadata": {},
   "outputs": [],
   "source": [
    "from selenium import webdriver\n",
    "import datetime\n",
    "import time\n",
    "from bs4 import BeautifulSoup\n",
    "import urllib.request\n",
    "import pandas as pd\n",
    "import numpy as np"
   ]
  },
  {
   "cell_type": "code",
   "execution_count": 29,
   "metadata": {},
   "outputs": [],
   "source": [
    "#Open a new web browser.\n",
    "driver = webdriver.Chrome()"
   ]
  },
  {
   "cell_type": "code",
   "execution_count": null,
   "metadata": {},
   "outputs": [],
   "source": [
    "#Open the web page that we want open and log in.\n",
    "driver.get('https://shop.wegmans.com/shop/categories/24')\n",
    "\n",
    "time.sleep(10)"
   ]
  },
  {
   "cell_type": "code",
   "execution_count": null,
   "metadata": {},
   "outputs": [],
   "source": [
    "X_button1 = driver.find_element_by_class_name('icon-delete')\n",
    "X_button1.click()"
   ]
  },
  {
   "cell_type": "code",
   "execution_count": null,
   "metadata": {},
   "outputs": [],
   "source": [
    "#Grab the webpage as a BeautifulSoup object\n",
    "soup = BeautifulSoup(driver.page_source,'html.parser')"
   ]
  },
  {
   "cell_type": "code",
   "execution_count": null,
   "metadata": {},
   "outputs": [],
   "source": [
    "#Obtain Product Names and append to blank list\n",
    "clean_product_names = []\n",
    "product_name = []\n",
    "product_names = soup.find_all('div',class_='cell-title-text')\n",
    "\n",
    "for i in range(len(product_names)):\n",
    "    each_name = product_names[i].text.strip()\n",
    "    product_name.append(each_name)\n",
    "    clean_product_names.append(each_name)"
   ]
  },
  {
   "cell_type": "code",
   "execution_count": null,
   "metadata": {},
   "outputs": [],
   "source": [
    "#Obtain Product Prices and append to blank list (this will accidentally disguise sales prices as regular prices)\n",
    "original_prices = []\n",
    "o_prices = soup.find_all('div',class_='css-1t08fcf')\n",
    "\n",
    "for i in range(len(o_prices)):\n",
    "    each_price = o_prices[i].text.strip()\n",
    "    if 'for' in o_prices:\n",
    "        each_price=each_price[12:17].replace('/','')\n",
    "    else:\n",
    "        each_price=each_price[6:12].replace('/','')\n",
    "        \n",
    "    original_prices.append(each_price)"
   ]
  },
  {
   "cell_type": "code",
   "execution_count": null,
   "metadata": {},
   "outputs": [],
   "source": [
    "dirty_prices = []\n",
    "for i in range(len(o_prices)):\n",
    "    dirty_prices.append(o_prices[i].text.strip())\n",
    "# to obtain the starting price if it has a sale\n",
    "# clean_starting_prices = dirty_prices - clean_prices\n",
    "clean_starting_prices = []\n",
    "\n",
    "for i in range(len(dirty_prices)):\n",
    "    clean_starting_price = dirty_prices[i].replace(original_prices[i],'')\n",
    "    clean_starting_prices.append(clean_starting_price[1:])"
   ]
  },
  {
   "cell_type": "code",
   "execution_count": null,
   "metadata": {},
   "outputs": [],
   "source": [
    "#Obtain product quantities and append to blank list\n",
    "clean_quantities = []\n",
    "quantities = soup.find_all('div',class_='cell-title-text')\n",
    "\n",
    "for i in range(len(clean_product_names)):\n",
    "    if \"Avg\" not in clean_product_names[i]:\n",
    "        clean_quantities.append('1 Serving')\n",
    "    else:\n",
    "        clean_quantities.append(clean_product_names[i].split(\"Avg.\")[1])"
   ]
  },
  {
   "cell_type": "code",
   "execution_count": null,
   "metadata": {},
   "outputs": [],
   "source": [
    "#make a product classification column\n",
    "product_type = []\n",
    "product = 'Meat-Beef'\n",
    "for i in range(len(clean_product_names)):\n",
    "    product_type.append(product)"
   ]
  },
  {
   "cell_type": "code",
   "execution_count": null,
   "metadata": {},
   "outputs": [],
   "source": [
    "#make a column to generate the date the data was pulled\n",
    "dates = []\n",
    "todays_date = datetime.date.today()\n",
    "for i in range(len(clean_product_names)):\n",
    "    dates.append(todays_date)"
   ]
  },
  {
   "cell_type": "code",
   "execution_count": null,
   "metadata": {},
   "outputs": [],
   "source": [
    "#make a column to generate the store name where the data is from\n",
    "store = []\n",
    "for i in range(len(clean_product_names)):\n",
    "    store.append('Wegmans')"
   ]
  },
  {
   "cell_type": "code",
   "execution_count": null,
   "metadata": {},
   "outputs": [],
   "source": [
    "#Create and outsheet dataframe\n",
    "Wegmans_Meat_Beef_Data1 = {'Date': dates,'Store':store,'Product Type':product_type, 'Product Name': clean_product_names,'Price':original_prices,'Quantity Sold In':clean_quantities}\n",
    "Wegmans_Meat_Beef_Dataframe1 = pd.DataFrame(data=Wegmans_Meat_Beef_Data1)\n",
    "\n",
    "\n",
    "Wegmans_Meat_Beef_Dataframe1.to_csv ('Wegmans ' +product+' '+str(todays_date)+'.csv', index = False, header=True)"
   ]
  },
  {
   "cell_type": "code",
   "execution_count": 123,
   "metadata": {},
   "outputs": [],
   "source": [
    "#Close the webpage\n",
    "driver.close()"
   ]
  },
  {
   "cell_type": "code",
   "execution_count": 124,
   "metadata": {},
   "outputs": [],
   "source": [
    "#Open a new web browser.\n",
    "driver = webdriver.Chrome()"
   ]
  },
  {
   "cell_type": "code",
   "execution_count": null,
   "metadata": {},
   "outputs": [],
   "source": [
    "#Open the web page that we want open and log in.\n",
    "driver.get('https://shop.wegmans.com/shop/categories/501')\n",
    "\n",
    "time.sleep(10)"
   ]
  },
  {
   "cell_type": "code",
   "execution_count": null,
   "metadata": {},
   "outputs": [],
   "source": [
    "X_button1 = driver.find_element_by_class_name('icon-delete')\n",
    "X_button1.click()"
   ]
  },
  {
   "cell_type": "code",
   "execution_count": null,
   "metadata": {},
   "outputs": [],
   "source": [
    "#Grab the webpage as a BeautifulSoup object\n",
    "soup = BeautifulSoup(driver.page_source,'html.parser')"
   ]
  },
  {
   "cell_type": "code",
   "execution_count": null,
   "metadata": {},
   "outputs": [],
   "source": [
    "#Obtain Product Names and append to blank list\n",
    "clean_product_names = []\n",
    "product_name = []\n",
    "product_names = soup.find_all('div',class_='cell-title-text')\n",
    "\n",
    "for i in range(len(product_names)):\n",
    "    each_name = product_names[i].text.strip()\n",
    "    product_name.append(each_name)\n",
    "    clean_product_names.append(each_name)"
   ]
  },
  {
   "cell_type": "code",
   "execution_count": null,
   "metadata": {},
   "outputs": [],
   "source": [
    "#Obtain Product Prices and append to blank list (this will accidentally disguise sales prices as regular prices)\n",
    "clean_prices = []\n",
    "prices = soup.find_all('div',class_='css-1t08fcf')\n",
    "\n",
    "for i in range(len(prices)):\n",
    "    each_price = prices[i].text.strip()\n",
    "    if 'for' in each_price:\n",
    "        each_price=each_price[12:17].replace('/','')\n",
    "    else:\n",
    "        each_price=each_price[6:12].replace('/','')\n",
    "        \n",
    "    clean_prices.append(each_price)"
   ]
  },
  {
   "cell_type": "code",
   "execution_count": null,
   "metadata": {},
   "outputs": [],
   "source": [
    "dirty_prices = []\n",
    "for i in range(len(o_prices)):\n",
    "    dirty_prices.append(o_prices[i].text.strip())\n",
    "# to obtain the starting price if it has a sale\n",
    "# clean_starting_prices = dirty_prices - clean_prices\n",
    "clean_starting_prices = []\n",
    "\n",
    "for i in range(len(dirty_prices)):\n",
    "    clean_starting_price = dirty_prices[i].replace(original_prices[i],'')\n",
    "    clean_starting_prices.append(clean_starting_price[1:])"
   ]
  },
  {
   "cell_type": "code",
   "execution_count": null,
   "metadata": {},
   "outputs": [],
   "source": [
    "#Obtain product quantities and append to blank list\n",
    "clean_quantities = []\n",
    "quantities = soup.find_all('div',class_='cell-title-text')\n",
    "\n",
    "for i in range(len(clean_product_names)):\n",
    "    if \"Avg\" not in clean_product_names[i]:\n",
    "        clean_quantities.append('1 Serving')\n",
    "    else:\n",
    "        clean_quantities.append(clean_product_names[i].split(\"Avg.\")[1])\n",
    "    \n",
    "    "
   ]
  },
  {
   "cell_type": "code",
   "execution_count": null,
   "metadata": {},
   "outputs": [],
   "source": [
    "#make a product classification column\n",
    "product_type = []\n",
    "product = 'Meat-Chicken'\n",
    "for i in range(len(clean_product_names)):\n",
    "    product_type.append(product)"
   ]
  },
  {
   "cell_type": "code",
   "execution_count": null,
   "metadata": {},
   "outputs": [],
   "source": [
    "#make a column to generate the date the data was pulled\n",
    "dates = []\n",
    "todays_date = datetime.date.today()\n",
    "for i in range(len(clean_product_names)):\n",
    "    dates.append(todays_date)"
   ]
  },
  {
   "cell_type": "code",
   "execution_count": null,
   "metadata": {},
   "outputs": [],
   "source": [
    "#make a column to generate the store name where the data is from\n",
    "store = []\n",
    "for i in range(len(clean_product_names)):\n",
    "    store.append('Wegmans')"
   ]
  },
  {
   "cell_type": "code",
   "execution_count": null,
   "metadata": {},
   "outputs": [],
   "source": [
    "#Create and outsheet dataframe\n",
    "Wegmans_Meat_Chicken_Data1 = {'Date': dates,'Store':store,'Product Type':product_type, 'Product Name': clean_product_names,'Price':clean_prices,'Quantity Sold In':clean_quantities}\n",
    "Wegmans_Meat_Chicken_Dataframe1 = pd.DataFrame(data=Wegmans_Meat_Chicken_Data1)\n",
    "\n",
    "\n",
    "Wegmans_Meat_Chicken_Dataframe1.to_csv ('Wegmans ' +product+' '+str(todays_date)+'.csv', index = False, header=True)"
   ]
  },
  {
   "cell_type": "code",
   "execution_count": 54,
   "metadata": {},
   "outputs": [],
   "source": [
    "#Close the webpage\n",
    "driver.close()"
   ]
  },
  {
   "cell_type": "code",
   "execution_count": null,
   "metadata": {},
   "outputs": [],
   "source": []
  },
  {
   "cell_type": "code",
   "execution_count": null,
   "metadata": {},
   "outputs": [],
   "source": []
  }
 ],
 "metadata": {
  "kernelspec": {
   "display_name": "Python 3",
   "language": "python",
   "name": "python3"
  },
  "language_info": {
   "codemirror_mode": {
    "name": "ipython",
    "version": 3
   },
   "file_extension": ".py",
   "mimetype": "text/x-python",
   "name": "python",
   "nbconvert_exporter": "python",
   "pygments_lexer": "ipython3",
   "version": "3.8.3"
  }
 },
 "nbformat": 4,
 "nbformat_minor": 4
}
